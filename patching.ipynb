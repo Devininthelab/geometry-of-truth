{
 "cells": [
  {
   "cell_type": "code",
   "execution_count": null,
   "metadata": {},
   "outputs": [],
   "source": [
    "import plotly.express as px\n",
    "import json\n",
    "from nnsight import LanguageModel\n",
    "import json\n",
    "import numpy as np"
   ]
  },
  {
   "cell_type": "code",
   "execution_count": null,
   "metadata": {},
   "outputs": [],
   "source": [
    "model = LanguageModel(\"meta-llama/Llama-2-70b-hf\")\n",
    "\n",
    "with open('experimental_outputs/patching_results.json', 'r') as f:\n",
    "    out = json.load(f)[-1]\n",
    "false_prompt = out['false_prompt']\n",
    "logit_diffs = out['logit_diffs']\n",
    "n_toks = len(logit_diffs)\n",
    "model_name = out['model']\n",
    "\n",
    "# transpose logit_diffs\n",
    "logit_diffs = [[logit_diffs[i][j] for i in range(0, len(logit_diffs))[::-1]] for j in range(len(logit_diffs[0]))]\n",
    "probs = [[1 / (1 + np.exp(-logit)) for logit in layer] for layer in logit_diffs]\n",
    "\n",
    "token_ids = model.tokenizer(false_prompt)['input_ids']\n",
    "tokens = [\n",
    "    model.tokenizer.decode([token_id]) + f\" ({idx})\" for idx, token_id in enumerate(token_ids)\n",
    "]\n",
    "tokens = tokens[-n_toks:]\n",
    "\n",
    "fig = px.imshow(\n",
    "    logit_diffs,\n",
    "    x=tokens,\n",
    "    labels=dict(x=\"Token\", y=\"Layer\"),\n",
    "    color_continuous_scale='blues',\n",
    ")\n",
    "fig.show()"
   ]
  }
 ],
 "metadata": {
  "kernelspec": {
   "display_name": "Python 3",
   "language": "python",
   "name": "python3"
  },
  "language_info": {
   "codemirror_mode": {
    "name": "ipython",
    "version": 3
   },
   "file_extension": ".py",
   "mimetype": "text/x-python",
   "name": "python",
   "nbconvert_exporter": "python",
   "pygments_lexer": "ipython3",
   "version": "3.11.7"
  }
 },
 "nbformat": 4,
 "nbformat_minor": 2
}
